{
 "cells": [
  {
   "cell_type": "code",
   "execution_count": null,
   "metadata": {},
   "outputs": [],
   "source": [
    "import pandas as pd\n",
    "\n",
    "from sklearn.datasets import load_breast_cancer\n",
    "from sklearn.model_selection import train_test_split\n",
    "from sklearn.preprocessing import MinMaxScaler"
   ]
  },
  {
   "cell_type": "code",
   "execution_count": null,
   "metadata": {},
   "outputs": [],
   "source": [
    "scaler_spam = MinMaxScaler()\n",
    "\n",
    "# Loading the dataset from the CSV file\n",
    "df_spam_loaded = pd.read_csv('./datasets/spam_dataset.csv')\n",
    "\n",
    "# Separate features and target\n",
    "X_spam = df_spam_loaded.drop('target', axis=1)\n",
    "y_spam = df_spam_loaded['target']\n",
    "\n",
    "X_spam_norm = pd.DataFrame(scaler_spam.fit_transform(X_spam), columns=X_spam.columns)\n",
    "\n",
    "X_spam_train, X_spam_test, y_spam_train, y_spam_test = train_test_split(X_spam_norm, y_spam, test_size=0.2, random_state=42)\n"
   ]
  },
  {
   "cell_type": "code",
   "execution_count": null,
   "metadata": {},
   "outputs": [],
   "source": [
    "# Load the breast cancer dataset\n",
    "cancer_data = load_breast_cancer()\n",
    "\n",
    "scaler_cancer = MinMaxScaler()\n",
    "\n",
    "# Create a pandas DataFrame\n",
    "cancer_df = pd.read_csv('./datasets/breast_cancer_dataset.csv')\n",
    "\n",
    "X_cancer = cancer_df.drop(['target'], axis=1)\n",
    "y_cancer = cancer_df['target']\n",
    "\n",
    "X_cancer_norm = pd.DataFrame(scaler_cancer.fit_transform(X_cancer), columns=X_cancer.columns)\n",
    "\n",
    "# Split the data into training and testing sets\n",
    "X_cancer_train, X_cancer_test, y_cancer_train, y_cancer_test = train_test_split(X_cancer_norm, y_cancer, test_size=0.2, random_state=42)"
   ]
  },
  {
   "cell_type": "code",
   "execution_count": null,
   "metadata": {},
   "outputs": [],
   "source": [
    "model_complexity_curve_neural_network(X_spam_train, y_spam_train.values.ravel(), X_spam_test, y_spam_test.values.ravel(), title=\"Model Complexity Curve for Neural Network (Spam Data)\\nHyperparameter : Hidden Layer Sizes\")\n",
    "\n",
    "hidden_layer_units, learn_rate = cross_validation_neural_network(X_spam_train,y_spam_train.values.ravel())\n",
    "\n",
    "spam_model = MLPClassifier(hidden_layer_sizes=hidden_layer_units, solver='adam', activation='logistic', learning_rate_init=learn_rate, max_iter=400, random_state=100)\n",
    "\n",
    "train_samples_spam, nn_train_score_spam, nn_fit_time_spam, nn_pred_time_spam = plot_learning_curve(spam_model, X_spam_train, y_spam_train, title=\"Neural Network Spam Data\")\n",
    "final_classifier_evaluation(spam_model, X_spam_train, X_spam_test, y_spam_train, y_spam_test)"
   ]
  },
  {
   "cell_type": "code",
   "execution_count": null,
   "metadata": {},
   "outputs": [],
   "source": [
    "model_complexity_curve_neural_network(X_cancer_train, y_cancer_train, X_cancer_test, y_cancer_test, title=\"Model Complexity Curve for Neural Network (Cancer Data)\\nHyperparameter : Hidden Layer Sizes\")\n",
    "\n",
    "hidden_layer_units, learn_rate = cross_validation_neural_network(X_cancer_train, y_cancer_train)\n",
    "\n",
    "cancer_model = MLPClassifier(hidden_layer_sizes=hidden_layer_units, solver='adam', activation='logistic', learning_rate_init=learn_rate, max_iter=400, random_state=100)\n",
    "\n",
    "train_samples_cancer, nn_train_score_cancer, nn_fit_time_cancer, nn_pred_time_cancer = plot_learning_curve(cancer_model, X_cancer_train, y_cancer_train, title=\"Neural Network Cancer Data\")\n",
    "final_classifier_evaluation(cancer_model, X_cancer_train, X_cancer_test, y_cancer_train, y_cancer_test)"
   ]
  },
  {
   "cell_type": "code",
   "execution_count": null,
   "metadata": {},
   "outputs": [],
   "source": [
    "# Plot the loss curves for both models\n",
    "loss_spam = spam_model.loss_curve_\n",
    "loss_cancer = cancer_model.loss_curve_\n",
    "plt.plot(np.arange(1, len(loss_spam) + 1), loss_spam, label='Spam Model Loss')\n",
    "plt.plot(np.arange(1, len(loss_cancer) + 1), loss_cancer, label='Breast Cancer Loss')\n",
    "plt.title('MLPClassifier Loss Curves')\n",
    "plt.xlabel('Iteration')\n",
    "plt.ylabel('Loss')\n",
    "plt.legend()\n",
    "plt.show()"
   ]
  }
 ],
 "metadata": {
  "kernelspec": {
   "display_name": "Python 3",
   "language": "python",
   "name": "python3"
  },
  "language_info": {
   "codemirror_mode": {
    "name": "ipython",
    "version": 3
   },
   "file_extension": ".py",
   "mimetype": "text/x-python",
   "name": "python",
   "nbconvert_exporter": "python",
   "pygments_lexer": "ipython3",
   "version": "3.8.18"
  }
 },
 "nbformat": 4,
 "nbformat_minor": 2
}
