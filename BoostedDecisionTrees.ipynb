{
 "cells": [
  {
   "cell_type": "code",
   "execution_count": null,
   "metadata": {},
   "outputs": [],
   "source": [
    "import pandas as pd\n",
    "\n",
    "from sklearn.datasets import load_breast_cancer\n",
    "from sklearn.model_selection import train_test_split\n",
    "from sklearn.preprocessing import MinMaxScaler"
   ]
  },
  {
   "cell_type": "code",
   "execution_count": null,
   "metadata": {},
   "outputs": [],
   "source": [
    "scaler_spam = MinMaxScaler()\n",
    "\n",
    "# Loading the dataset from the CSV file\n",
    "df_spam_loaded = pd.read_csv('./datasets/spam_dataset.csv')\n",
    "\n",
    "# Separate features and target\n",
    "X_spam = df_spam_loaded.drop('target', axis=1)\n",
    "y_spam = df_spam_loaded['target']\n",
    "\n",
    "X_spam_norm = pd.DataFrame(scaler_spam.fit_transform(X_spam), columns=X_spam.columns)\n",
    "\n",
    "X_spam_train, X_spam_test, y_spam_train, y_spam_test = train_test_split(X_spam_norm, y_spam, test_size=0.2, random_state=42)\n"
   ]
  },
  {
   "cell_type": "code",
   "execution_count": null,
   "metadata": {},
   "outputs": [],
   "source": [
    "# Load the breast cancer dataset\n",
    "cancer_data = load_breast_cancer()\n",
    "\n",
    "scaler_cancer = MinMaxScaler()\n",
    "\n",
    "# Create a pandas DataFrame\n",
    "cancer_df = pd.read_csv('./datasets/breast_cancer_dataset.csv')\n",
    "\n",
    "X_cancer = cancer_df.drop(['target'], axis=1)\n",
    "y_cancer = cancer_df['target']\n",
    "\n",
    "X_cancer_norm = pd.DataFrame(scaler_cancer.fit_transform(X_cancer), columns=X_cancer.columns)\n",
    "\n",
    "# Split the data into training and testing sets\n",
    "X_cancer_train, X_cancer_test, y_cancer_train, y_cancer_test = train_test_split(X_cancer_norm, y_cancer, test_size=0.2, random_state=42)"
   ]
  },
  {
   "cell_type": "code",
   "execution_count": null,
   "metadata": {},
   "outputs": [],
   "source": [
    "model_complexity_curve_boosted_decision_tree(X_spam_train, y_spam_train.values.ravel(), X_spam_test, y_spam_test.values.ravel(), 3, 50, title=\"Model Complexity Curve for Boosted Decision Tree (Spam Data)\\nHyperparameter : No. of Estimators\")\n",
    "\n",
    "start_leaf_n = round(0.005*len(X_spam_train))\n",
    "end_leaf_n = round(0.05*len(X_spam_train)) #leaf nodes of size [0.5%, 5% will be tested]\n",
    "\n",
    "max_depth, min_samples_leaf, n_est, learn_rate = cross_validation_boosted_decision_tree(start_leaf_n,end_leaf_n,X_spam_train,y_spam_train.values.ravel())\n",
    "\n",
    "spam_model = GradientBoostingClassifier(max_depth=max_depth, min_samples_leaf=min_samples_leaf, n_estimators=n_est, learning_rate=learn_rate, random_state=100)\n",
    "train_samples_spam, bt_train_score_spam, bt_fit_time_spam, bt_pred_time_spam = plot_learning_curve(spam_model, X_spam_train, y_spam_train, title=\"Boosted Decision Tree Spam Data\")\n",
    "final_classifier_evaluation(spam_model, X_spam_train, X_spam_test, y_spam_train, y_spam_test)"
   ]
  },
  {
   "cell_type": "code",
   "execution_count": null,
   "metadata": {},
   "outputs": [],
   "source": [
    "model_complexity_curve_boosted_decision_tree(X_cancer_train, y_cancer_train.values.ravel(), X_cancer_test, y_cancer_test.values.ravel(), 3, 50, title=\"Model Complexity Curve for Boosted Decision Tree (Cancer Data)\\nHyperparameter : No. of Estimators\")\n",
    "\n",
    "start_leaf_n = round(0.005*len(X_cancer_train))\n",
    "end_leaf_n = round(0.05*len(X_cancer_train)) #leaf nodes of size [0.5%, 5% will be tested]\n",
    "\n",
    "max_depth, min_samples_leaf, n_est, learn_rate = cross_validation_boosted_decision_tree(start_leaf_n, end_leaf_n, X_cancer_train, y_cancer_train.values.ravel())\n",
    "\n",
    "cancer_model = GradientBoostingClassifier(max_depth=max_depth, min_samples_leaf=min_samples_leaf, n_estimators=n_est, learning_rate=learn_rate, random_state=100)\n",
    "train_samples_cancer, bt_train_score_cancer, bt_fit_time_cancer, bt_pred_time_cancer = plot_learning_curve(cancer_model, X_cancer_train, y_cancer_train, title=\"Boosted Decision Tree Breast Cancer Data\")\n",
    "final_classifier_evaluation(cancer_model, X_cancer_train, X_cancer_test, y_cancer_train, y_cancer_test)"
   ]
  }
 ],
 "metadata": {
  "kernelspec": {
   "display_name": "Python 3",
   "language": "python",
   "name": "python3"
  },
  "language_info": {
   "codemirror_mode": {
    "name": "ipython",
    "version": 3
   },
   "file_extension": ".py",
   "mimetype": "text/x-python",
   "name": "python",
   "nbconvert_exporter": "python",
   "pygments_lexer": "ipython3",
   "version": "3.8.18"
  }
 },
 "nbformat": 4,
 "nbformat_minor": 2
}
